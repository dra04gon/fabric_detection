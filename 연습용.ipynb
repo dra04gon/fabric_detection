{
 "cells": [
  {
   "cell_type": "code",
   "execution_count": 2,
   "id": "d442467d",
   "metadata": {},
   "outputs": [],
   "source": [
    "import os\n",
    "import json\n",
    "import numpy as np\n",
    "\n",
    "\n"
   ]
  },
  {
   "cell_type": "code",
   "execution_count": 3,
   "id": "e2fee630",
   "metadata": {},
   "outputs": [
    {
     "name": "stdout",
     "output_type": "stream",
     "text": [
      "데이터 개수: 35\n",
      "이미지 개수: 35\n"
     ]
    }
   ],
   "source": [
    "save_dir = r\"C:\\Users\\dra04\\OneDrive - 경희대학교\\바탕 화면\\test\\json\"\n",
    "image_dir = r\"C:\\Users\\dra04\\OneDrive - 경희대학교\\바탕 화면\\test\\picture\"\n",
    "\n",
    "json_files = []\n",
    "image_files=[]\n",
    "for file in os.listdir(save_dir):\n",
    "    json_files.append(os.path.join(save_dir, file))\n",
    "    image_files.append(os.path.join(image_dir,file))\n",
    "\n",
    "print(\"데이터 개수:\", len(json_files))\n",
    "print(\"이미지 개수:\", len(image_files))"
   ]
  },
  {
   "cell_type": "code",
   "execution_count": 7,
   "id": "11887be5",
   "metadata": {},
   "outputs": [
    {
     "name": "stdout",
     "output_type": "stream",
     "text": [
      "{'이미지 정보': {'이미지 식별자': 550403, '이미지 높이': 533, '이미지 파일명': '_MG_0723.jpg', '이미지 너비': 800}, '데이터셋 정보': {'파일 생성일자': '2020-10-19 09:59:14', '데이터셋 상세설명': {'렉트좌표': {'아우터': [{}], '하의': [{}], '원피스': [{}], '상의': [{'X좌표': 235.5, 'Y좌표': 55.5, '가로': 319, '세로': 432}]}, '폴리곤좌표': {'아우터': [{}], '하의': [{}], '원피스': [{}], '상의': [{'X좌표8': 492.0, 'X좌표9': 517.0, 'X좌표2': 316.0, 'X좌표3': 342.0, 'X좌표1': 289.0, 'X좌표6': 443.0, 'X좌표7': 462.0, 'X좌표4': 372.0, 'X좌표5': 399.0, 'Y좌표26': 161.0, 'Y좌표25': 269.0, 'Y좌표9': 129.0, 'Y좌표27': 93.0, 'Y좌표22': 340.0, 'Y좌표21': 392.0, 'Y좌표24': 314.0, 'Y좌표23': 344.0, 'Y좌표20': 442.0, 'X좌표19': 311.0, 'X좌표18': 374.0, 'X좌표17': 451.0, 'X좌표16': 494.0, 'X좌표15': 498.0, 'X좌표14': 490.0, 'X좌표13': 510.0, 'X좌표12': 555.0, 'X좌표11': 539.0, 'Y좌표4': 56.0, 'X좌표10': 532.0, 'Y좌표3': 75.0, 'Y좌표2': 78.0, 'Y좌표1': 89.0, 'Y좌표8': 91.0, 'Y좌표7': 81.0, 'Y좌표6': 63.0, 'Y좌표5': 66.0, 'Y좌표15': 424.0, 'Y좌표14': 369.0, 'Y좌표17': 488.0, 'Y좌표16': 469.0, 'Y좌표11': 296.0, 'Y좌표10': 225.0, 'Y좌표13': 367.0, 'Y좌표12': 350.0, 'X좌표27': 287.0, 'X좌표26': 272.0, 'X좌표25': 250.0, 'X좌표24': 236.0, 'X좌표23': 276.0, 'X좌표22': 300.0, 'X좌표21': 299.0, 'X좌표20': 291.0, 'Y좌표19': 475.0, 'Y좌표18': 488.0}]}, '라벨링': {'스타일': [{'스타일': '레트로', '서브스타일': '모던'}], '아우터': [{}], '하의': [{}], '원피스': [{}], '상의': [{'기장': '롱', '색상': '화이트', '서브색상': '블랙', '카테고리': '블라우스', '소매기장': '7부소매', '소재': ['시폰'], '프린트': ['도트'], '핏': '루즈'}]}}, '파일 번호': 550403, '파일 이름': '_MG_0723.jpg'}}\n"
     ]
    }
   ],
   "source": [
    "for file in json_files:\n",
    "    with open(file, \"rb\") as f:\n",
    "        data = json.load(f)\n",
    "print(data)"
   ]
  },
  {
   "cell_type": "code",
   "execution_count": null,
   "id": "09f76e09",
   "metadata": {},
   "outputs": [],
   "source": [
    "\n",
    "dataset = ClothDataset(image_dict)\n",
    "print(len(dataset))"
   ]
  }
 ],
 "metadata": {
  "kernelspec": {
   "display_name": "Python 3 (ipykernel)",
   "language": "python",
   "name": "python3"
  },
  "language_info": {
   "codemirror_mode": {
    "name": "ipython",
    "version": 3
   },
   "file_extension": ".py",
   "mimetype": "text/x-python",
   "name": "python",
   "nbconvert_exporter": "python",
   "pygments_lexer": "ipython3",
   "version": "3.9.7"
  }
 },
 "nbformat": 4,
 "nbformat_minor": 5
}
